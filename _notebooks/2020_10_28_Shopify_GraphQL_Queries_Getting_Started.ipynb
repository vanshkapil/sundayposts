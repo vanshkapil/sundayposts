{
  "nbformat": 4,
  "nbformat_minor": 0,
  "metadata": {
    "colab": {
      "name": "2020-10-28-Shopify-GraphQL-Queries-Getting-Started.ipynb",
      "provenance": [],
      "authorship_tag": "ABX9TyMoEsr22JqVRdCa2gOsUBM8",
      "include_colab_link": true
    },
    "kernelspec": {
      "name": "python3",
      "display_name": "Python 3"
    }
  },
  "cells": [
    {
      "cell_type": "markdown",
      "metadata": {
        "id": "view-in-github",
        "colab_type": "text"
      },
      "source": [
        "<a href=\"https://colab.research.google.com/github/vanshkapil/sundayposts/blob/master/_notebooks/2020_10_28_Shopify_GraphQL_Queries_Getting_Started.ipynb\" target=\"_parent\"><img src=\"https://colab.research.google.com/assets/colab-badge.svg\" alt=\"Open In Colab\"/></a>"
      ]
    },
    {
      "cell_type": "markdown",
      "metadata": {
        "id": "w4ZzcJgSq_31"
      },
      "source": [
        "Some Shopify GraphQL queries to get you started\n",
        "Noob way\n",
        "\n",
        "toc:true\n",
        "branch: master\n",
        "badges: true\n",
        "comments: true\n",
        "author: Vansh Kapil\n",
        "categories: [shopify]"
      ]
    },
    {
      "cell_type": "markdown",
      "metadata": {
        "id": "9oK7OKDaxCdc"
      },
      "source": [
        "I have been trying to connect my AI shopping bot with Shopify API. This got me introduced to GraphQL. Here are some of the queries that I tried to get started. "
      ]
    },
    {
      "cell_type": "markdown",
      "metadata": {
        "id": "fS-_iqCNtcaj"
      },
      "source": [
        "# API call function\n",
        "We call this function with query as parameters to get the json object as response from Shopify. "
      ]
    },
    {
      "cell_type": "code",
      "metadata": {
        "id": "LV1XyTqKth70"
      },
      "source": [
        "def gq_query(data, variables):\n",
        "    \"\"\"\n",
        "    Queries the Shopify\n",
        "    :param data:\n",
        "    :param variables:\n",
        "    :return:\n",
        "    \"\"\"\n",
        "    out = []  # the final output list of dictionaries to be converted to a DF\n",
        "    shop = '<Your Store name>'\n",
        "    token = '<Your store password>'\n",
        "    headers = {\n",
        "        'Content-Type': 'application/json',\n",
        "        'X-Shopify-Access-Token': f'{token}',\n",
        "    }\n",
        "\n",
        "    response = requests.post(f'https://{shop}.myshopify.com/admin/api/2020-10/graphql.json',\n",
        "                             json={'query': data, 'variables': variables}, headers=headers)\n",
        "    return response.json()"
      ],
      "execution_count": null,
      "outputs": []
    },
    {
      "cell_type": "markdown",
      "metadata": {
        "id": "9bv7TghFrsmw"
      },
      "source": [
        "#Getting product count for a collection.\n",
        "You may note that I am formatting the query as string and not passing the variables in query variable. \n",
        "This is not the best practice, but it got me started. "
      ]
    },
    {
      "cell_type": "code",
      "metadata": {
        "id": "MPFZyFwErBny"
      },
      "source": [
        "def get_productcount_fromCollection(handle):\n",
        "    \"\"\"\n",
        "    returns product count for given collection\n",
        "    :param handle:\n",
        "    :return: int count\n",
        "    \"\"\"\n",
        "    data = '''\n",
        "           {{\n",
        "              collectionByHandle(handle: \"{}\"){{\n",
        "                productsCount\n",
        "\n",
        "              }}\n",
        "            }}'''.format(handle)\n",
        "    variable = ''' '''\n",
        "    return gq_query(data, variable).get('data').get('collectionByHandle').get('productsCount')"
      ],
      "execution_count": null,
      "outputs": []
    },
    {
      "cell_type": "markdown",
      "metadata": {
        "id": "STx8sQ7krqqf"
      },
      "source": [
        "# Getting products from a collection\n",
        "\n",
        "This query is tries to fetch upto 50 products from the given collection handle. You can change the number of products and even create it as a variable. Be mindfull of the query cost. \n",
        "This works well if you have fewer products in a collection."
      ]
    },
    {
      "cell_type": "code",
      "metadata": {
        "id": "VK5jpwgasP08"
      },
      "source": [
        "def get_products_fromCollection(handle):\n",
        "    \"\"\"\n",
        "    Get all the products for given collection\n",
        "    :param handle:\n",
        "    :return: List of dicts with title:title and price:price\n",
        "    \"\"\"\n",
        "    \n",
        "    obj = []\n",
        "    num = get_productcount_fromCollection(handle)\n",
        "    \n",
        "\n",
        "    data = f'''\n",
        "           query {{\n",
        "              collectionByHandle(handle: \"{handle}\"){{\n",
        "                products(first: 50){{\n",
        "                   pageInfo {{\n",
        "      hasNextPage\n",
        "      hasPreviousPage\n",
        "    }}\n",
        "                  edges{{\n",
        "                    cursor\n",
        "                    node{{\n",
        "                      id  \n",
        "                      updatedAt\n",
        "                      title\n",
        "                      featuredImage{{\n",
        "            transformedSrc\n",
        "          }}  \n",
        "                      priceRangeV2{{\n",
        "                        minVariantPrice{{\n",
        "                          currencyCode\n",
        "                          amount\n",
        "                        }}\n",
        "\n",
        "                      }}\n",
        "                   \n",
        "                    }}\n",
        "\n",
        "                  }}\n",
        "                }}\n",
        "\n",
        "              }}\n",
        "            }}'''\n",
        "    variable = ''' '''\n",
        "    data_dict = gq_query(data, variable)\n",
        "    \n",
        "    "
      ],
      "execution_count": null,
      "outputs": []
    },
    {
      "cell_type": "markdown",
      "metadata": {
        "id": "rHGnvHcEsxTD"
      },
      "source": [
        "But what if there are thousands of products and you cannot fetch them in 1 call. That where we make use of *pageInfo and cursor* . "
      ]
    },
    {
      "cell_type": "code",
      "metadata": {
        "id": "gi8t8Hy_tJrF"
      },
      "source": [
        "    while data_dict.get('data').get('collectionByHandle').get('products').get('pageInfo').get('hasNextPage'):\n",
        "        time.sleep(5)\n",
        "   \n",
        "        cursor = data_dict.get('data').get('collectionByHandle').get('products').get('edges')[-1].get('cursor')\n",
        "        data = f'''\n",
        "                   query {{\n",
        "                      collectionByHandle(handle: \"{handle}\"){{\n",
        "                        products(first: 50, after: \"{cursor}\"){{\n",
        "                           pageInfo {{\n",
        "              hasNextPage\n",
        "              hasPreviousPage\n",
        "            }}\n",
        "                          edges{{\n",
        "                            cursor\n",
        "                            node{{\n",
        "                              id  \n",
        "                              updatedAt\n",
        "                              title\n",
        "                              featuredImage{{\n",
        "                    transformedSrc\n",
        "                  }}  \n",
        "                              priceRangeV2{{\n",
        "                                minVariantPrice{{\n",
        "                                  currencyCode\n",
        "                                  amount\n",
        "                                }}\n",
        "\n",
        "                              }}\n",
        "\n",
        "                            }}\n",
        "\n",
        "                          }}\n",
        "                        }}\n",
        "\n",
        "                      }}\n",
        "                    }}'''\n",
        "        variable = ''' '''\n",
        "        data_dict = gq_query(data, variable)"
      ],
      "execution_count": null,
      "outputs": []
    },
    {
      "cell_type": "markdown",
      "metadata": {
        "id": "E3heFQVkuIao"
      },
      "source": [
        "You may notice an attribute *pageInfo*  in the query which has a field called *hasNextPage* . hasNextPage gives out Boolean result (True or False). If its True it means there another set of products waiting on the next page"
      ]
    },
    {
      "cell_type": "code",
      "metadata": {
        "id": "UmubYw1KuKkD"
      },
      "source": [
        "data_dict.get('data').get('collectionByHandle').get('products').get('pageInfo').get('hasNextPage') "
      ],
      "execution_count": null,
      "outputs": []
    },
    {
      "cell_type": "markdown",
      "metadata": {
        "id": "eLuX-CpjusvP"
      },
      "source": [
        "Once we recognize that there is another page of products we need to move that page without re-reading the current batch of products. The current batch of products is recognized by something called *cursor*"
      ]
    },
    {
      "cell_type": "code",
      "metadata": {
        "id": "ZIr5cEwWu_9H"
      },
      "source": [
        "cursor = data_dict.get('data').get('collectionByHandle').get('products').get('edges')[-1].get('cursor')"
      ],
      "execution_count": null,
      "outputs": []
    },
    {
      "cell_type": "markdown",
      "metadata": {
        "id": "w-XUiw2mvCZa"
      },
      "source": [
        "The above call pulls the cursor of last product fetch, so we know that we have to fetch products after this cursor."
      ]
    },
    {
      "cell_type": "code",
      "metadata": {
        "id": "EsZov9gxvN1Z"
      },
      "source": [
        "query {{\n",
        "                      collectionByHandle(handle: \"{handle}\"){{\n",
        "                        products(first: 50, after: \"{cursor}\"){{\n",
        "                           pageInfo {{\n",
        "              hasNextPage\n",
        "              hasPreviousPage\n",
        "            }}"
      ],
      "execution_count": null,
      "outputs": []
    },
    {
      "cell_type": "markdown",
      "metadata": {
        "id": "FtHNxAn8vayZ"
      },
      "source": [
        "products(first: 50, after: \"{cursor}\") Asks for 50 products after the given cursor"
      ]
    },
    {
      "cell_type": "markdown",
      "metadata": {
        "id": "jze_Knmpv03h"
      },
      "source": [
        "#Fetch List of Collections"
      ]
    },
    {
      "cell_type": "markdown",
      "metadata": {
        "id": "M_43rNuav6ja"
      },
      "source": [
        "This function returns upto 200 collection's handles as a list"
      ]
    },
    {
      "cell_type": "code",
      "metadata": {
        "id": "czMh_IdBvW_J"
      },
      "source": [
        "def get_collections_list():\n",
        "    \"\"\"\n",
        "    gets handles of all the collections of the store.\n",
        "    :return: list of handles\n",
        "    \"\"\"\n",
        "\n",
        "    data = f'''\n",
        "                {{\n",
        "                \n",
        "                collections(first: 200){{\n",
        "                  edges{{\n",
        "                    node{{\n",
        "                      handle\n",
        "                    }}\n",
        "                  }}\n",
        "                }}\n",
        "                  \n",
        "                }}\n",
        "                \n",
        "                '''\n",
        "    variable = ''' '''\n",
        "    data_dict = gq_query(data, variable)\n",
        "    handle_list=[]\n",
        "    for n in range(len(data_dict['data'].get('collections').get('edges'))):\n",
        "        handle_list.append(data_dict['data'].get('collections').get('edges')[n].get('node').get('handle'))\n",
        "    return handle_list"
      ],
      "execution_count": null,
      "outputs": []
    },
    {
      "cell_type": "markdown",
      "metadata": {
        "id": "gE4QIJzAwChP"
      },
      "source": [
        "# Get product Updation details\n",
        "There could be a situation wherein you may want to check when a product was last updated/modified or you may want to fetch products updated after a certain timestamp. This can be accomplished by looking for updatedAt attribute."
      ]
    },
    {
      "cell_type": "code",
      "metadata": {
        "id": "U8wK5IaBwXlH"
      },
      "source": [
        "def get_updated_products():\n",
        "    \"\"\"\n",
        "    gets updated products based on updateAt timestamp from shopify API\n",
        "    :return:\n",
        "    \"\"\"\n",
        "\n",
        "\n",
        "    data = f'''\n",
        "               {{\n",
        "                \n",
        "                  products(query:\"updated_at:>{last_update_timestamp}\" first:800) {{\n",
        "                    edges {{\n",
        "                      node {{\n",
        "                         id\n",
        "                            title\n",
        "                            updatedAt\n",
        "                            featuredImage{{\n",
        "                              transformedSrc\n",
        "                            }}\n",
        "                            priceRangeV2{{\n",
        "                              minVariantPrice{{\n",
        "                                currencyCode\n",
        "                                amount\n",
        "                              }}\n",
        "                            }}\n",
        "                        \n",
        "                      }}\n",
        "                    }}\n",
        "                  }}\n",
        "                  \n",
        "                }}\n",
        "            '''\n",
        "    variable = ''' '''\n",
        "    data_dict = gq_query(data, variable)"
      ],
      "execution_count": null,
      "outputs": []
    },
    {
      "cell_type": "markdown",
      "metadata": {
        "id": "vEd2ycRgwtRG"
      },
      "source": [
        "last_update_timestamp is the variable for timestamp"
      ]
    },
    {
      "cell_type": "markdown",
      "metadata": {
        "id": "dURTnoKJw5jm"
      },
      "source": [
        "Thats it for now, I will update this post as an when I use more queries in my project"
      ]
    },
    {
      "cell_type": "code",
      "metadata": {
        "id": "HzqnLI1aw0eZ"
      },
      "source": [
        ""
      ],
      "execution_count": null,
      "outputs": []
    }
  ]
}